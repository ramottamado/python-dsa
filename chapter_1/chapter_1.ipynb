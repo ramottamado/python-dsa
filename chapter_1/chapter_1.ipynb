{
 "cells": [
  {
   "cell_type": "code",
   "execution_count": 1,
   "metadata": {},
   "outputs": [],
   "source": [
    "%load_ext lab_black"
   ]
  },
  {
   "cell_type": "markdown",
   "metadata": {},
   "source": [
    "# Data Structures and Algorithms in Python"
   ]
  },
  {
   "cell_type": "markdown",
   "metadata": {},
   "source": [
    "## Chapter 1: Python Primer"
   ]
  },
  {
   "cell_type": "markdown",
   "metadata": {},
   "source": [
    "### 1.12 Exercises"
   ]
  },
  {
   "cell_type": "markdown",
   "metadata": {},
   "source": [
    "#### Reinforcement"
   ]
  },
  {
   "cell_type": "markdown",
   "metadata": {},
   "source": [
    "##### R-1.1"
   ]
  },
  {
   "cell_type": "code",
   "execution_count": 31,
   "metadata": {},
   "outputs": [
    {
     "name": "stdout",
     "output_type": "stream",
     "text": [
      "True\n",
      "False\n"
     ]
    }
   ],
   "source": [
    "def is_multiple(n: int, m: int) -> bool:\n",
    "    if n % m == 0:\n",
    "        return True\n",
    "    else:\n",
    "        return False\n",
    "\n",
    "\n",
    "print(is_multiple(4, 2))\n",
    "print(is_multiple(6, 4))"
   ]
  },
  {
   "cell_type": "markdown",
   "metadata": {},
   "source": [
    "##### R-1.2"
   ]
  },
  {
   "cell_type": "code",
   "execution_count": 35,
   "metadata": {},
   "outputs": [
    {
     "name": "stdout",
     "output_type": "stream",
     "text": [
      "False\n",
      "True\n"
     ]
    }
   ],
   "source": [
    "# Approach 1, using bitwise operator\n",
    "\n",
    "\n",
    "def is_even(k: int) -> bool:\n",
    "    if k == ((k >> 1) << 1):\n",
    "        return True\n",
    "    else:\n",
    "        return False\n",
    "\n",
    "\n",
    "print(is_even(1997))\n",
    "print(is_even(2004))"
   ]
  },
  {
   "cell_type": "code",
   "execution_count": 37,
   "metadata": {},
   "outputs": [
    {
     "name": "stdout",
     "output_type": "stream",
     "text": [
      "False\n",
      "True\n"
     ]
    }
   ],
   "source": [
    "# Approach 2, using for loop (WARNING: Complexity is high!\n",
    "# Only works with positive integers!)\n",
    "\n",
    "\n",
    "def is_even_loop(k: int) -> bool:\n",
    "    even = True\n",
    "    for i in range(k):\n",
    "        even = not even\n",
    "    return even\n",
    "\n",
    "\n",
    "print(is_even_loop(9))\n",
    "print(is_even_loop(10))"
   ]
  },
  {
   "cell_type": "code",
   "execution_count": 38,
   "metadata": {},
   "outputs": [
    {
     "name": "stdout",
     "output_type": "stream",
     "text": [
      "False\n",
      "True\n"
     ]
    }
   ],
   "source": [
    "# Approach 3, because even integers <=> 2n\n",
    "\n",
    "\n",
    "def is_even3(k: int) -> bool:\n",
    "    result = 0\n",
    "    while result <= k:\n",
    "        result += 2\n",
    "        if result == k - 1:\n",
    "            return False\n",
    "    return True\n",
    "\n",
    "\n",
    "print(is_even3(9))\n",
    "print(is_even3(10))"
   ]
  },
  {
   "cell_type": "markdown",
   "metadata": {},
   "source": [
    "##### R-1.3"
   ]
  },
  {
   "cell_type": "code",
   "execution_count": 5,
   "metadata": {},
   "outputs": [
    {
     "name": "stdout",
     "output_type": "stream",
     "text": [
      "(-4, 71)\n"
     ]
    }
   ],
   "source": [
    "# Approach 1, using sorted() or .sort()\n",
    "\n",
    "from typing import List, Tuple\n",
    "\n",
    "\n",
    "def minmax(data: List[int]) -> Tuple[int, int]:\n",
    "    data.sort()\n",
    "    return data[0], data[-1]\n",
    "\n",
    "\n",
    "print(minmax([9, 19, 4, 71, -4, 8]))"
   ]
  },
  {
   "cell_type": "code",
   "execution_count": 6,
   "metadata": {},
   "outputs": [
    {
     "name": "stdout",
     "output_type": "stream",
     "text": [
      "(-4, 71)\n"
     ]
    }
   ],
   "source": [
    "# Approach 2, using for loop\n",
    "\n",
    "from typing import List, Tuple\n",
    "\n",
    "\n",
    "def minmax_loop(data: List[int]) -> Tuple[int, int]:\n",
    "    min_, max_ = data[0], data[-1]\n",
    "    for val in data[1:-1]:\n",
    "        if val < min_:\n",
    "            min_ = val\n",
    "        elif val > max_:\n",
    "            max_ = val\n",
    "    return min_, max_\n",
    "\n",
    "\n",
    "print(minmax([9, 19, 4, 71, -4, 8]))"
   ]
  },
  {
   "cell_type": "markdown",
   "metadata": {},
   "source": [
    "##### R-1.4"
   ]
  },
  {
   "cell_type": "code",
   "execution_count": 7,
   "metadata": {},
   "outputs": [
    {
     "data": {
      "text/plain": [
       "204"
      ]
     },
     "execution_count": 7,
     "metadata": {},
     "output_type": "execute_result"
    }
   ],
   "source": [
    "def sum_of_squares_loop(n: int) -> int:\n",
    "    sum_ = 0\n",
    "    for i in range(n):\n",
    "        sum_ += pow(i, 2)\n",
    "    return sum_\n",
    "\n",
    "\n",
    "sum_of_squares_loop(9)"
   ]
  },
  {
   "cell_type": "markdown",
   "metadata": {},
   "source": [
    "##### R-1.5"
   ]
  },
  {
   "cell_type": "code",
   "execution_count": 8,
   "metadata": {},
   "outputs": [
    {
     "data": {
      "text/plain": [
       "204"
      ]
     },
     "execution_count": 8,
     "metadata": {},
     "output_type": "execute_result"
    }
   ],
   "source": [
    "def sum_of_squares(n: int) -> int:\n",
    "    return sum([pow(i, 2) for i in range(n)])\n",
    "\n",
    "\n",
    "sum_of_squares(9)"
   ]
  },
  {
   "cell_type": "markdown",
   "metadata": {},
   "source": [
    "##### R-1.6"
   ]
  },
  {
   "cell_type": "code",
   "execution_count": 9,
   "metadata": {},
   "outputs": [
    {
     "data": {
      "text/plain": [
       "84"
      ]
     },
     "execution_count": 9,
     "metadata": {},
     "output_type": "execute_result"
    }
   ],
   "source": [
    "def sum_of_squares_odd_loop(n: int) -> int:\n",
    "    sum_ = 0\n",
    "    for i in range(1, n, 2):\n",
    "        sum_ += pow(i, 2)\n",
    "    return sum_\n",
    "\n",
    "\n",
    "sum_of_squares_odd_loop(9)"
   ]
  },
  {
   "cell_type": "markdown",
   "metadata": {},
   "source": [
    "##### R-1.7"
   ]
  },
  {
   "cell_type": "code",
   "execution_count": 10,
   "metadata": {},
   "outputs": [
    {
     "data": {
      "text/plain": [
       "84"
      ]
     },
     "execution_count": 10,
     "metadata": {},
     "output_type": "execute_result"
    }
   ],
   "source": [
    "def sum_of_squares_odd(n: int) -> int:\n",
    "    return sum([pow(i, 2) for i in range(1, n, 2)])\n",
    "\n",
    "\n",
    "sum_of_squares_odd(9)"
   ]
  },
  {
   "cell_type": "markdown",
   "metadata": {},
   "source": [
    "##### R-1.8"
   ]
  },
  {
   "cell_type": "markdown",
   "metadata": {},
   "source": [
    "`j = n + k`"
   ]
  },
  {
   "cell_type": "code",
   "execution_count": 11,
   "metadata": {},
   "outputs": [
    {
     "name": "stdout",
     "output_type": "stream",
     "text": [
      "a\n",
      "a\n"
     ]
    }
   ],
   "source": [
    "teks = \"Hakuna\"\n",
    "print(teks[-5])\n",
    "print(teks[1])"
   ]
  },
  {
   "cell_type": "markdown",
   "metadata": {},
   "source": [
    "##### R-1.9"
   ]
  },
  {
   "cell_type": "code",
   "execution_count": 12,
   "metadata": {},
   "outputs": [
    {
     "name": "stdout",
     "output_type": "stream",
     "text": [
      "[50, 60, 70, 80]\n"
     ]
    }
   ],
   "source": [
    "print([i for i in range(50, 90, 10)])"
   ]
  },
  {
   "cell_type": "markdown",
   "metadata": {},
   "source": [
    "##### R-1.10"
   ]
  },
  {
   "cell_type": "code",
   "execution_count": 13,
   "metadata": {},
   "outputs": [
    {
     "name": "stdout",
     "output_type": "stream",
     "text": [
      "[8, 6, 4, 2, 0, -2, -4, -6, -8]\n"
     ]
    }
   ],
   "source": [
    "print([i for i in range(8, -10, -2)])"
   ]
  },
  {
   "cell_type": "markdown",
   "metadata": {},
   "source": [
    "##### R-1.11"
   ]
  },
  {
   "cell_type": "code",
   "execution_count": 14,
   "metadata": {},
   "outputs": [
    {
     "name": "stdout",
     "output_type": "stream",
     "text": [
      "[1, 2, 4, 8, 16, 32, 64, 128, 256]\n"
     ]
    }
   ],
   "source": [
    "print([pow(2, i) for i in range(9)])"
   ]
  },
  {
   "cell_type": "markdown",
   "metadata": {},
   "source": [
    "##### R-1.12"
   ]
  },
  {
   "cell_type": "code",
   "execution_count": 15,
   "metadata": {},
   "outputs": [
    {
     "data": {
      "text/plain": [
       "7"
      ]
     },
     "execution_count": 15,
     "metadata": {},
     "output_type": "execute_result"
    }
   ],
   "source": [
    "from random import randrange\n",
    "from typing import List\n",
    "\n",
    "\n",
    "def choice(data: List[int]) -> int:\n",
    "    chosen = randrange(len(data))\n",
    "    return data[chosen]\n",
    "\n",
    "\n",
    "choice([7, 5, 3, 8])"
   ]
  },
  {
   "cell_type": "markdown",
   "metadata": {},
   "source": [
    "#### Creativity"
   ]
  },
  {
   "cell_type": "markdown",
   "metadata": {},
   "source": [
    "##### C-1.13"
   ]
  },
  {
   "cell_type": "code",
   "execution_count": 16,
   "metadata": {},
   "outputs": [
    {
     "name": "stdout",
     "output_type": "stream",
     "text": [
      "[7, 5, 3, 1]\n"
     ]
    }
   ],
   "source": [
    "# Approach 1\n",
    "\n",
    "from typing import List, Any\n",
    "\n",
    "\n",
    "def list_reverse(data: List[Any]) -> List[Any]:\n",
    "    new_list = []\n",
    "    for i in range(len(data)):\n",
    "        new_list.append(data[len(data) - i - 1])\n",
    "    return new_list\n",
    "\n",
    "\n",
    "print(list_reverse([1, 3, 5, 7]))"
   ]
  },
  {
   "cell_type": "code",
   "execution_count": 17,
   "metadata": {},
   "outputs": [
    {
     "data": {
      "text/plain": [
       "[7, 5, 3, 1]"
      ]
     },
     "execution_count": 17,
     "metadata": {},
     "output_type": "execute_result"
    }
   ],
   "source": [
    "# Approach 2\n",
    "\n",
    "from typing import List, Any\n",
    "\n",
    "\n",
    "def list_reverse2(data: List[Any]) -> List[Any]:\n",
    "    new_list = data\n",
    "    for i in range(len(new_list) // 2):\n",
    "        new_list[i], new_list[len(new_list) - i - 1] = (\n",
    "            new_list[len(new_list) - i - 1],\n",
    "            new_list[i],\n",
    "        )\n",
    "    return new_list\n",
    "\n",
    "\n",
    "list_reverse2([1, 3, 5, 7])"
   ]
  },
  {
   "cell_type": "markdown",
   "metadata": {},
   "source": [
    "##### C-1.14"
   ]
  },
  {
   "cell_type": "code",
   "execution_count": 18,
   "metadata": {},
   "outputs": [
    {
     "name": "stdout",
     "output_type": "stream",
     "text": [
      "False\n",
      "True\n"
     ]
    }
   ],
   "source": [
    "from typing import List\n",
    "\n",
    "\n",
    "def distinct_pair_odd(data: List[int]) -> bool:\n",
    "    data = [i % 2 for i in data]\n",
    "    if sum(data) > 1:\n",
    "        return True\n",
    "    else:\n",
    "        return False\n",
    "\n",
    "\n",
    "print(distinct_pair_odd([1, 2, 4, 6]))\n",
    "print(distinct_pair_odd([1, 3, 6, 8]))"
   ]
  },
  {
   "cell_type": "markdown",
   "metadata": {},
   "source": [
    "##### C-1.15"
   ]
  },
  {
   "cell_type": "code",
   "execution_count": 19,
   "metadata": {},
   "outputs": [
    {
     "name": "stdout",
     "output_type": "stream",
     "text": [
      "True\n",
      "False\n"
     ]
    }
   ],
   "source": [
    "from typing import List\n",
    "\n",
    "\n",
    "def all_distinct(data: List[int]) -> List[int]:\n",
    "    if len(data) == len(set(data)):\n",
    "        return True\n",
    "    else:\n",
    "        return False\n",
    "\n",
    "\n",
    "print(all_distinct([1, 3, 5, 7]))\n",
    "print(all_distinct([1, 4, 5, 5]))"
   ]
  },
  {
   "cell_type": "markdown",
   "metadata": {},
   "source": [
    "##### C-1.16"
   ]
  },
  {
   "cell_type": "markdown",
   "metadata": {},
   "source": [
    "See https://stackoverflow.com/a/986339/7939800"
   ]
  },
  {
   "cell_type": "markdown",
   "metadata": {},
   "source": [
    "##### C-1.17"
   ]
  },
  {
   "cell_type": "markdown",
   "metadata": {},
   "source": [
    "No, because integers are immutable"
   ]
  },
  {
   "cell_type": "markdown",
   "metadata": {},
   "source": [
    "##### C-1.18"
   ]
  },
  {
   "cell_type": "code",
   "execution_count": 20,
   "metadata": {},
   "outputs": [
    {
     "name": "stdout",
     "output_type": "stream",
     "text": [
      "[0, 2, 6, 12, 20, 30, 42, 56, 72, 90]\n"
     ]
    }
   ],
   "source": [
    "print([i + pow(i, 2) for i in range(0, 10)])"
   ]
  },
  {
   "cell_type": "markdown",
   "metadata": {},
   "source": [
    "##### C-1.19"
   ]
  },
  {
   "cell_type": "code",
   "execution_count": 21,
   "metadata": {},
   "outputs": [
    {
     "name": "stdout",
     "output_type": "stream",
     "text": [
      "['a', 'b', 'c', 'd', 'e', 'f', 'g', 'h', 'i', 'j', 'k', 'l', 'm', 'n', 'o', 'p', 'q', 'r', 's', 't', 'u', 'v', 'w', 'x', 'y', 'z']\n"
     ]
    }
   ],
   "source": [
    "print([chr(i) for i in range(97, 97 + 26)])"
   ]
  },
  {
   "cell_type": "markdown",
   "metadata": {},
   "source": [
    "##### C-1.20"
   ]
  },
  {
   "cell_type": "code",
   "execution_count": 22,
   "metadata": {},
   "outputs": [
    {
     "data": {
      "text/plain": [
       "[2, 5, 4, 1, 3]"
      ]
     },
     "execution_count": 22,
     "metadata": {},
     "output_type": "execute_result"
    }
   ],
   "source": [
    "from typing import List\n",
    "from random import randint\n",
    "\n",
    "\n",
    "def shuffle(data: List[int]) -> List[int]:\n",
    "    new_list = []\n",
    "    while len(data) > 0:\n",
    "        new_list.append(data.pop(randint(0, len(data) - 1)))\n",
    "    return new_list\n",
    "\n",
    "\n",
    "shuffle([1, 2, 3, 4, 5])"
   ]
  },
  {
   "cell_type": "markdown",
   "metadata": {},
   "source": [
    "##### C-1.21"
   ]
  },
  {
   "cell_type": "code",
   "execution_count": 23,
   "metadata": {},
   "outputs": [
    {
     "name": "stdin",
     "output_type": "stream",
     "text": [
      " 1\n",
      " 2\n",
      " 3\n",
      " 4\n",
      " 6\n",
      " 7\n",
      " 4\n"
     ]
    },
    {
     "name": "stdout",
     "output_type": "stream",
     "text": [
      "4\n",
      "7\n",
      "6\n",
      "4\n",
      "3\n",
      "2\n",
      "1\n"
     ]
    },
    {
     "name": "stdin",
     "output_type": "stream",
     "text": [
      " \n"
     ]
    }
   ],
   "source": [
    "def read_stdin():\n",
    "    data = []\n",
    "    while True:\n",
    "        try:\n",
    "            new = input()\n",
    "            data.append(new)\n",
    "        except KeyboardInterrupt:  #  Jupyter\n",
    "            break\n",
    "    while len(data) > 0:\n",
    "        print(data.pop())\n",
    "\n",
    "\n",
    "read_stdin()"
   ]
  },
  {
   "cell_type": "markdown",
   "metadata": {},
   "source": [
    "##### C-1.22"
   ]
  },
  {
   "cell_type": "code",
   "execution_count": 24,
   "metadata": {},
   "outputs": [
    {
     "name": "stdout",
     "output_type": "stream",
     "text": [
      "[1, 6, 15, 28]\n"
     ]
    }
   ],
   "source": [
    "from typing import List\n",
    "\n",
    "\n",
    "def dot_product(a: List[int], b: List[int]) -> List[int]:\n",
    "    if len(a) == len(b):\n",
    "        c = [a[i] * b[i] for i in range(len(a))]\n",
    "    else:\n",
    "        return []\n",
    "    return c\n",
    "\n",
    "\n",
    "print(dot_product([1, 2, 3, 4], [1, 3, 5, 7]))"
   ]
  },
  {
   "cell_type": "markdown",
   "metadata": {},
   "source": [
    "##### C-1.23"
   ]
  },
  {
   "cell_type": "code",
   "execution_count": 25,
   "metadata": {},
   "outputs": [
    {
     "name": "stdout",
     "output_type": "stream",
     "text": [
      "Don't try buffer overflow attacks in Python!\n"
     ]
    }
   ],
   "source": [
    "from typing import List\n",
    "\n",
    "\n",
    "def buffer_overflow(data: List[int]):\n",
    "    try:\n",
    "        data[len(data) + 1] = 10\n",
    "    except IndexError:\n",
    "        print(\"Don't try buffer overflow attacks in Python!\")\n",
    "\n",
    "\n",
    "buffer_overflow([1, 2, 3])"
   ]
  },
  {
   "cell_type": "markdown",
   "metadata": {},
   "source": [
    "##### C-1.24"
   ]
  },
  {
   "cell_type": "code",
   "execution_count": 26,
   "metadata": {},
   "outputs": [
    {
     "name": "stdout",
     "output_type": "stream",
     "text": [
      "2\n",
      "3\n"
     ]
    }
   ],
   "source": [
    "def count_vowels(data: str) -> int:\n",
    "    return sum(\n",
    "        [\n",
    "            val.count(\"a\")\n",
    "            + val.count(\"e\")\n",
    "            + val.count(\"i\")\n",
    "            + val.count(\"o\")\n",
    "            + val.count(\"u\")\n",
    "            for val in data\n",
    "        ]\n",
    "    )\n",
    "\n",
    "\n",
    "print(count_vowels(\"Tama\"))\n",
    "print(count_vowels(\"Marquez\"))"
   ]
  },
  {
   "cell_type": "markdown",
   "metadata": {},
   "source": [
    "##### C-1.25"
   ]
  },
  {
   "cell_type": "code",
   "execution_count": 27,
   "metadata": {},
   "outputs": [
    {
     "data": {
      "text/plain": [
       "'Lets try Mike'"
      ]
     },
     "execution_count": 27,
     "metadata": {},
     "output_type": "execute_result"
    }
   ],
   "source": [
    "def string_cleaner(data: str) -> str:\n",
    "    result = []\n",
    "    for val in data:\n",
    "        if 65 <= ord(val) <= 90:\n",
    "            result.append(val)\n",
    "        elif 97 <= ord(val) <= 122:\n",
    "            result.append(val)\n",
    "        elif 48 <= ord(val) <= 57:\n",
    "            result.append(val)\n",
    "        elif ord(val) == 32:\n",
    "            result.append(val)\n",
    "    return \"\".join(result)\n",
    "\n",
    "\n",
    "string_cleaner(\"Let's try, Mike.\")"
   ]
  },
  {
   "cell_type": "markdown",
   "metadata": {},
   "source": [
    "##### C-1.26"
   ]
  },
  {
   "cell_type": "code",
   "execution_count": 28,
   "metadata": {},
   "outputs": [
    {
     "name": "stdout",
     "output_type": "stream",
     "text": [
      "False\n",
      "True\n"
     ]
    }
   ],
   "source": [
    "def correct_arithmetic(a: int, b: int, c: int) -> bool:\n",
    "    if a + b == c:\n",
    "        return True\n",
    "    elif a == b - c:\n",
    "        return True\n",
    "    elif a * b == c:\n",
    "        return True\n",
    "    else:\n",
    "        return False\n",
    "\n",
    "\n",
    "print(correct_arithmetic(4, 6, 7))\n",
    "print(correct_arithmetic(1, 4, 4))"
   ]
  },
  {
   "cell_type": "markdown",
   "metadata": {},
   "source": [
    "##### C-1.27"
   ]
  },
  {
   "cell_type": "code",
   "execution_count": 29,
   "metadata": {},
   "outputs": [
    {
     "data": {
      "text/plain": [
       "[1, 2, 4, 5, 10, 20, 25, 50, 100, 125, 250, 500]"
      ]
     },
     "execution_count": 29,
     "metadata": {},
     "output_type": "execute_result"
    }
   ],
   "source": [
    "def factors(n: int):\n",
    "    k = 1\n",
    "    res = []\n",
    "    while k * k < n:\n",
    "        if n % k == 0:\n",
    "            yield k\n",
    "            res.append(n // k)\n",
    "        k += 1\n",
    "    if k * k == n:\n",
    "        yield k\n",
    "    while len(res) > 0:\n",
    "        yield res.pop()\n",
    "\n",
    "\n",
    "[i for i in factors(500)]"
   ]
  },
  {
   "cell_type": "markdown",
   "metadata": {},
   "source": [
    "##### C-1.28"
   ]
  },
  {
   "cell_type": "code",
   "execution_count": 30,
   "metadata": {},
   "outputs": [
    {
     "name": "stdout",
     "output_type": "stream",
     "text": [
      "3.7416573867739413\n",
      "9.899494936611665\n"
     ]
    }
   ],
   "source": [
    "from typing import List\n",
    "from math import sqrt\n",
    "\n",
    "\n",
    "def norm(v: List[int], p=2) -> float:\n",
    "    return sqrt(sum([pow(val, p) for val in v]))\n",
    "\n",
    "\n",
    "print(norm([1, 2, 3]))\n",
    "print(norm([1, 2, 3], 4))"
   ]
  }
 ],
 "metadata": {
  "kernelspec": {
   "display_name": "Python 3.8.2 64-bit ('new_env': venv)",
   "language": "python",
   "name": "python38264bitnewenvvenv5c831131f904440cb29f08ef16781e58"
  },
  "language_info": {
   "codemirror_mode": {
    "name": "ipython",
    "version": 3
   },
   "file_extension": ".py",
   "mimetype": "text/x-python",
   "name": "python",
   "nbconvert_exporter": "python",
   "pygments_lexer": "ipython3",
   "version": "3.8.2"
  }
 },
 "nbformat": 4,
 "nbformat_minor": 4
}
